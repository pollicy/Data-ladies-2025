{
  "cells": [
    {
      "cell_type": "markdown",
      "metadata": {
        "id": "view-in-github",
        "colab_type": "text"
      },
      "source": [
        "<a href=\"https://colab.research.google.com/github/pollicy/Data-ladies-2025/blob/main/getting_started_exercises.ipynb\" target=\"_parent\"><img src=\"https://colab.research.google.com/assets/colab-badge.svg\" alt=\"Open In Colab\"/></a>"
      ]
    },
    {
      "cell_type": "markdown",
      "id": "6d1563ba",
      "metadata": {
        "id": "6d1563ba"
      },
      "source": [
        "# Getting Started with Python for Machine Learning\n",
        "This notebook introduces the basics of Python with exercises after each section 🚀"
      ]
    },
    {
      "cell_type": "markdown",
      "id": "ebc51b91",
      "metadata": {
        "id": "ebc51b91"
      },
      "source": [
        "## Variables & Data Types"
      ]
    },
    {
      "cell_type": "code",
      "execution_count": null,
      "id": "26480ef3",
      "metadata": {
        "id": "26480ef3"
      },
      "outputs": [],
      "source": [
        "# 📝 Exercise: Variables & Data Types\n",
        "# 1. Create a variable called `age` and assign it your age.\n",
        "# 2. Create a string variable with your favorite color.\n",
        "# 3. Print \"I am X years old and my favorite color is Y\" using the variables.\n"
      ]
    },
    {
      "cell_type": "markdown",
      "id": "904dbc20",
      "metadata": {
        "id": "904dbc20"
      },
      "source": [
        "## Lists & Dictionaries"
      ]
    },
    {
      "cell_type": "code",
      "execution_count": null,
      "id": "0b1b5065",
      "metadata": {
        "id": "0b1b5065"
      },
      "outputs": [],
      "source": [
        "# 📝 Exercise: Lists & Dictionaries\n",
        "# 1. Create a list of 5 fruits and print the second fruit.\n",
        "# 2. Add a new fruit to the list.\n",
        "# 3. Create a dictionary with keys: \"title\", \"author\", \"year\" about your favorite book.\n",
        "# 4. Print the author of the book from the dictionary.\n"
      ]
    },
    {
      "cell_type": "markdown",
      "id": "7be28a23",
      "metadata": {
        "id": "7be28a23"
      },
      "source": [
        "## Control Flow"
      ]
    },
    {
      "cell_type": "code",
      "execution_count": null,
      "id": "ad90b107",
      "metadata": {
        "id": "ad90b107"
      },
      "outputs": [],
      "source": [
        "# 📝 Exercise: Control Flow\n",
        "# 1. Write an if-statement that prints \"Even\" if a number is even, else prints \"Odd\".\n",
        "# 2. Use a for-loop to print numbers from 1 to 5.\n",
        "# 3. Use a while-loop to print numbers from 5 down to 1.\n"
      ]
    },
    {
      "cell_type": "markdown",
      "id": "3f93c06e",
      "metadata": {
        "id": "3f93c06e"
      },
      "source": [
        "## Functions"
      ]
    },
    {
      "cell_type": "code",
      "execution_count": null,
      "id": "c5dd1060",
      "metadata": {
        "id": "c5dd1060"
      },
      "outputs": [],
      "source": [
        "# 📝 Exercise: Functions\n",
        "# 1. Write a function `square(num)` that returns the square of a number.\n",
        "# 2. Write a function `is_adult(age)` that returns True if age >= 18, else False.\n",
        "# 3. Call your functions with some example inputs.\n"
      ]
    },
    {
      "cell_type": "markdown",
      "id": "58b5af80",
      "metadata": {
        "id": "58b5af80"
      },
      "source": [
        "## NumPy"
      ]
    },
    {
      "cell_type": "code",
      "execution_count": null,
      "id": "d1d9d2b4",
      "metadata": {
        "id": "d1d9d2b4"
      },
      "outputs": [],
      "source": [
        "# 📝 Exercise: NumPy\n",
        "# 1. Create a NumPy array of numbers from 1 to 10.\n",
        "# 2. Find the mean and standard deviation of the array.\n",
        "# 3. Multiply all numbers in the array by 2.\n"
      ]
    },
    {
      "cell_type": "markdown",
      "id": "b368c555",
      "metadata": {
        "id": "b368c555"
      },
      "source": [
        "## Pandas"
      ]
    },
    {
      "cell_type": "code",
      "execution_count": null,
      "id": "8cdc856b",
      "metadata": {
        "id": "8cdc856b"
      },
      "outputs": [],
      "source": [
        "# 📝 Exercise: Pandas\n",
        "# 1. Create a Pandas DataFrame with columns: City, Country, Population (3 rows).\n",
        "# 2. Print the first two rows of your DataFrame.\n",
        "# 3. Print only the \"City\" column.\n"
      ]
    },
    {
      "cell_type": "markdown",
      "id": "4259b350",
      "metadata": {
        "id": "4259b350"
      },
      "source": [
        "## Matplotlib"
      ]
    },
    {
      "cell_type": "code",
      "execution_count": null,
      "id": "3125500d",
      "metadata": {
        "id": "3125500d"
      },
      "outputs": [],
      "source": [
        "import matplotlib.pyplot as plt\n",
        "\n",
        "x = [1, 2, 3, 4]\n",
        "y = [2, 4, 6, 8]\n",
        "plt.plot(x, y)\n",
        "plt.title(\"Simple Plot\")\n",
        "plt.show()"
      ]
    },
    {
      "cell_type": "code",
      "execution_count": null,
      "id": "de3725d3",
      "metadata": {
        "id": "de3725d3"
      },
      "outputs": [],
      "source": [
        "# 📝 Exercise: Matplotlib\n",
        "# 1. Plot a line graph for x = [1,2,3,4,5] and y = [1,4,9,16,25].\n",
        "# 2. Add a title and labels for x and y axes.\n"
      ]
    }
  ],
  "metadata": {
    "colab": {
      "provenance": [],
      "include_colab_link": true
    }
  },
  "nbformat": 4,
  "nbformat_minor": 5
}