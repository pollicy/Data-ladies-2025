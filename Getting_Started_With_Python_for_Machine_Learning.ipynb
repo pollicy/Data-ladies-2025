{
  "nbformat": 4,
  "nbformat_minor": 0,
  "metadata": {
    "colab": {
      "provenance": [],
      "include_colab_link": true
    },
    "kernelspec": {
      "name": "python3",
      "display_name": "Python 3"
    },
    "language_info": {
      "name": "python"
    }
  },
  "cells": [
    {
      "cell_type": "markdown",
      "metadata": {
        "id": "view-in-github",
        "colab_type": "text"
      },
      "source": [
        "<a href=\"https://colab.research.google.com/github/pollicy/Data-ladies-2025/blob/main/Getting_Started_With_Python_for_Machine_Learning.ipynb\" target=\"_parent\"><img src=\"https://colab.research.google.com/assets/colab-badge.svg\" alt=\"Open In Colab\"/></a>"
      ]
    },
    {
      "cell_type": "markdown",
      "source": [
        "# Getting Started with Python for Machine Learning\n",
        "\n",
        "This notebook introduces the core Python concepts you'll need before diving into Machine Learning.  \n",
        "We’ll focus only on the essentials:\n",
        "- Variables & Data Types  \n",
        "- Lists & Dictionaries  \n",
        "- Control Flow (if, for, while)  \n",
        "- Functions  \n",
        "- NumPy (arrays, math operations)  \n",
        "- Pandas (data handling)  \n",
        "- Matplotlib (basic visualization)\n",
        "\n",
        "Let’s begin 🚀\n"
      ],
      "metadata": {
        "id": "whpW2S2Ez4Kt"
      }
    },
    {
      "cell_type": "code",
      "source": [],
      "metadata": {
        "id": "i8yCaHy0z8JG"
      },
      "execution_count": null,
      "outputs": []
    },
    {
      "cell_type": "markdown",
      "source": [
        "## Variables & Data Types"
      ],
      "metadata": {
        "id": "hXnM_H-k0Hwa"
      }
    },
    {
      "cell_type": "markdown",
      "source": [
        "### Numbers"
      ],
      "metadata": {
        "id": "0_otapyV0LfD"
      }
    },
    {
      "cell_type": "code",
      "source": [
        "x = 5\n",
        "y = 3.14"
      ],
      "metadata": {
        "id": "w_Xr3dmm0I-Y"
      },
      "execution_count": null,
      "outputs": []
    },
    {
      "cell_type": "code",
      "source": [
        "print(x, y)"
      ],
      "metadata": {
        "colab": {
          "base_uri": "https://localhost:8080/"
        },
        "id": "uBepj-r50Ptf",
        "outputId": "ccc18ca1-68d2-42e9-e887-5f475818430a"
      },
      "execution_count": null,
      "outputs": [
        {
          "output_type": "stream",
          "name": "stdout",
          "text": [
            "5 3.14\n"
          ]
        }
      ]
    },
    {
      "cell_type": "code",
      "source": [
        "print(x + y)"
      ],
      "metadata": {
        "colab": {
          "base_uri": "https://localhost:8080/"
        },
        "id": "hN4vLTNm0YWM",
        "outputId": "a4488fc6-6826-48c5-e1b9-3b7af2ddc1b1"
      },
      "execution_count": null,
      "outputs": [
        {
          "output_type": "stream",
          "name": "stdout",
          "text": [
            "8.14\n"
          ]
        }
      ]
    },
    {
      "cell_type": "code",
      "source": [
        "print(x * y)"
      ],
      "metadata": {
        "colab": {
          "base_uri": "https://localhost:8080/"
        },
        "id": "wlaVPxyV0a22",
        "outputId": "f1ab0c08-fd69-452a-e6a9-811653db8298"
      },
      "execution_count": null,
      "outputs": [
        {
          "output_type": "stream",
          "name": "stdout",
          "text": [
            "15.700000000000001\n"
          ]
        }
      ]
    },
    {
      "cell_type": "markdown",
      "source": [
        "### String\n",
        "\n",
        "Strings are sequences of characters, often used for names, labels, and categorical data in ML.  \n",
        "They can be enclosed in single quotes (`'`) or double quotes (`\"`)."
      ],
      "metadata": {
        "id": "c0eLbl4F0dm5"
      }
    },
    {
      "cell_type": "code",
      "source": [
        "name = \"Jane\"\n",
        "other = 'Jacob'\n",
        "\n",
        "print(name)"
      ],
      "metadata": {
        "colab": {
          "base_uri": "https://localhost:8080/"
        },
        "id": "YssjrAHP0gvQ",
        "outputId": "27d8fd0a-7cee-4c2d-9d14-222466453f6d"
      },
      "execution_count": null,
      "outputs": [
        {
          "output_type": "stream",
          "name": "stdout",
          "text": [
            "Jane\n"
          ]
        }
      ]
    },
    {
      "cell_type": "code",
      "source": [
        "print(name + other)"
      ],
      "metadata": {
        "colab": {
          "base_uri": "https://localhost:8080/"
        },
        "id": "jdML8G4o1DO2",
        "outputId": "ec3cb60c-82ce-4326-8b50-f91dc170c412"
      },
      "execution_count": null,
      "outputs": [
        {
          "output_type": "stream",
          "name": "stdout",
          "text": [
            "JaneJacob\n"
          ]
        }
      ]
    },
    {
      "cell_type": "code",
      "source": [],
      "metadata": {
        "id": "zzHWsWZu1Hfy"
      },
      "execution_count": null,
      "outputs": []
    },
    {
      "cell_type": "markdown",
      "source": [
        "### Boolean"
      ],
      "metadata": {
        "id": "17Sgu1SR1IK_"
      }
    },
    {
      "cell_type": "code",
      "source": [
        "is_active = True\n",
        "is_reading = False"
      ],
      "metadata": {
        "id": "QXLsnHeG1LOt"
      },
      "execution_count": null,
      "outputs": []
    },
    {
      "cell_type": "code",
      "source": [],
      "metadata": {
        "id": "ZgSBs-al1Lad"
      },
      "execution_count": null,
      "outputs": []
    },
    {
      "cell_type": "markdown",
      "source": [
        "## Lists and Dictionaries"
      ],
      "metadata": {
        "id": "Q0Auih851iA3"
      }
    },
    {
      "cell_type": "markdown",
      "source": [
        "### lists"
      ],
      "metadata": {
        "id": "x3W7P1Uw1on6"
      }
    },
    {
      "cell_type": "code",
      "source": [
        "scores = [90, 85, 88, 92]\n",
        "print(scores)"
      ],
      "metadata": {
        "colab": {
          "base_uri": "https://localhost:8080/"
        },
        "id": "6fhUA9Sf1jnA",
        "outputId": "8676c0b6-e9f0-41a3-923a-0aa152a98137"
      },
      "execution_count": null,
      "outputs": [
        {
          "output_type": "stream",
          "name": "stdout",
          "text": [
            "[90, 85, 88, 92]\n"
          ]
        }
      ]
    },
    {
      "cell_type": "code",
      "source": [],
      "metadata": {
        "id": "4vXnoPcd1j_M"
      },
      "execution_count": null,
      "outputs": []
    },
    {
      "cell_type": "code",
      "source": [
        "# Access items by index (starting at 0)\n",
        "print(\"First score:\", scores[0])\n",
        "print(\"Last score:\", scores[-1])"
      ],
      "metadata": {
        "colab": {
          "base_uri": "https://localhost:8080/"
        },
        "id": "40s4vNUx1j6z",
        "outputId": "e3f1bd95-15f4-48b8-d299-b60a4b28844a"
      },
      "execution_count": null,
      "outputs": [
        {
          "output_type": "stream",
          "name": "stdout",
          "text": [
            "First score: 90\n",
            "Last score: 92\n"
          ]
        }
      ]
    },
    {
      "cell_type": "code",
      "source": [
        "# Add new item\n",
        "scores.append(95)\n",
        "print(\"Updated scores:\", scores)"
      ],
      "metadata": {
        "colab": {
          "base_uri": "https://localhost:8080/"
        },
        "id": "Cg0F8w8t44qY",
        "outputId": "56079068-0acb-413c-e04b-dbc310bc4237"
      },
      "execution_count": null,
      "outputs": [
        {
          "output_type": "stream",
          "name": "stdout",
          "text": [
            "Updated scores: [90, 85, 88, 92, 95]\n"
          ]
        }
      ]
    },
    {
      "cell_type": "markdown",
      "source": [
        "### Dictionaries"
      ],
      "metadata": {
        "id": "LLvuDX-c5Gqn"
      }
    },
    {
      "cell_type": "code",
      "source": [],
      "metadata": {
        "id": "OIsC7eH25Ie-"
      },
      "execution_count": null,
      "outputs": []
    },
    {
      "cell_type": "code",
      "source": [
        "student = {\n",
        "    \"name\": \"Alice\",\n",
        "    \"age\": 21,\n",
        "    \"score\": 92\n",
        "}"
      ],
      "metadata": {
        "id": "5hn-s72B5JBF"
      },
      "execution_count": null,
      "outputs": []
    },
    {
      "cell_type": "code",
      "source": [
        "print(\"Student dictionary:\", student)\n",
        "print(\"Student name:\", student[\"name\"])"
      ],
      "metadata": {
        "colab": {
          "base_uri": "https://localhost:8080/"
        },
        "id": "XQalL6xh5I5X",
        "outputId": "29743c9b-a6a6-42e0-c237-387a8bcf867c"
      },
      "execution_count": null,
      "outputs": [
        {
          "output_type": "stream",
          "name": "stdout",
          "text": [
            "Student dictionary: {'name': 'Alice', 'age': 21, 'score': 92}\n",
            "Student name: Alice\n"
          ]
        }
      ]
    },
    {
      "cell_type": "code",
      "source": [],
      "metadata": {
        "id": "i13yoEPQ5Qgl"
      },
      "execution_count": null,
      "outputs": []
    },
    {
      "cell_type": "code",
      "source": [],
      "metadata": {
        "id": "TJUEpKgd5Qb0"
      },
      "execution_count": null,
      "outputs": []
    },
    {
      "cell_type": "markdown",
      "source": [
        "## Control Flow"
      ],
      "metadata": {
        "id": "fp-OlgOA5Sgj"
      }
    },
    {
      "cell_type": "markdown",
      "source": [
        "### If statements"
      ],
      "metadata": {
        "id": "D7YPj6jJ66Tl"
      }
    },
    {
      "cell_type": "code",
      "source": [
        "number = 90\n",
        "if number > 80:\n",
        "    print(\"Great job! First score is above 80.\")"
      ],
      "metadata": {
        "colab": {
          "base_uri": "https://localhost:8080/"
        },
        "id": "WA8K4Paz5Vb6",
        "outputId": "487668f0-2cde-45fb-9231-b45330fb6a0d"
      },
      "execution_count": null,
      "outputs": [
        {
          "output_type": "stream",
          "name": "stdout",
          "text": [
            "Great job! First score is above 80.\n"
          ]
        }
      ]
    },
    {
      "cell_type": "code",
      "source": [],
      "metadata": {
        "id": "-5sk0TtX5VOc"
      },
      "execution_count": null,
      "outputs": []
    },
    {
      "cell_type": "markdown",
      "source": [
        "### Loops"
      ],
      "metadata": {
        "id": "q6ln8mTX7SMF"
      }
    },
    {
      "cell_type": "code",
      "source": [],
      "metadata": {
        "id": "e9dCn34u7Ti4"
      },
      "execution_count": null,
      "outputs": []
    },
    {
      "cell_type": "code",
      "source": [
        "# For loop\n",
        "for s in scores:\n",
        "    print(\"Score:\", s)"
      ],
      "metadata": {
        "colab": {
          "base_uri": "https://localhost:8080/"
        },
        "id": "FhanCaPM7UBO",
        "outputId": "7e6ed005-8136-4690-ad3c-f3a5f8307b99"
      },
      "execution_count": null,
      "outputs": [
        {
          "output_type": "stream",
          "name": "stdout",
          "text": [
            "Score: 90\n",
            "Score: 85\n",
            "Score: 88\n",
            "Score: 92\n",
            "Score: 95\n"
          ]
        }
      ]
    },
    {
      "cell_type": "code",
      "source": [],
      "metadata": {
        "id": "4mAiMV1M7Toy"
      },
      "execution_count": null,
      "outputs": []
    },
    {
      "cell_type": "code",
      "source": [
        "# While loop\n",
        "n = 0\n",
        "while n < 3:\n",
        "    print(\"n =\", n)\n",
        "    n += 1"
      ],
      "metadata": {
        "colab": {
          "base_uri": "https://localhost:8080/"
        },
        "id": "sq3kjebf7eG5",
        "outputId": "d262386c-0ffb-46c3-a4fa-2cf7e4ba39a7"
      },
      "execution_count": null,
      "outputs": [
        {
          "output_type": "stream",
          "name": "stdout",
          "text": [
            "n = 0\n",
            "n = 1\n",
            "n = 2\n"
          ]
        }
      ]
    },
    {
      "cell_type": "code",
      "source": [],
      "metadata": {
        "id": "WBucZQkE7qZA"
      },
      "execution_count": null,
      "outputs": []
    },
    {
      "cell_type": "markdown",
      "source": [
        "## Functions"
      ],
      "metadata": {
        "id": "MHSVU0BK7qp8"
      }
    },
    {
      "cell_type": "code",
      "source": [],
      "metadata": {
        "id": "A1TzvbyY7ri7"
      },
      "execution_count": null,
      "outputs": []
    },
    {
      "cell_type": "code",
      "source": [
        "def square(num):\n",
        "    return num ** 2\n",
        "\n",
        "print(\"Square of 5:\", square(5))"
      ],
      "metadata": {
        "colab": {
          "base_uri": "https://localhost:8080/"
        },
        "id": "YI9ZzmHG7r_v",
        "outputId": "73454b97-873b-4f65-f1a5-3cd181375e6d"
      },
      "execution_count": null,
      "outputs": [
        {
          "output_type": "stream",
          "name": "stdout",
          "text": [
            "Square of 5: 25\n"
          ]
        }
      ]
    },
    {
      "cell_type": "code",
      "source": [],
      "metadata": {
        "id": "2xzyOkAd7r3X"
      },
      "execution_count": null,
      "outputs": []
    },
    {
      "cell_type": "markdown",
      "source": [
        "## NumPy"
      ],
      "metadata": {
        "id": "1O0_-FZX7_iX"
      }
    },
    {
      "cell_type": "code",
      "source": [
        "import numpy as np\n",
        "\n",
        "# Arrays\n",
        "arr = np.array([1, 2, 3, 4, 5])\n",
        "print(\"Array:\", arr)"
      ],
      "metadata": {
        "colab": {
          "base_uri": "https://localhost:8080/"
        },
        "id": "W4vlmo9M79rz",
        "outputId": "48bd1dfb-03a6-4dee-d790-e45d97f02593"
      },
      "execution_count": null,
      "outputs": [
        {
          "output_type": "stream",
          "name": "stdout",
          "text": [
            "Array: [1 2 3 4 5]\n"
          ]
        }
      ]
    },
    {
      "cell_type": "code",
      "source": [
        "# Vectorized operations\n",
        "print(\"Squared:\", arr ** 2)"
      ],
      "metadata": {
        "colab": {
          "base_uri": "https://localhost:8080/"
        },
        "id": "mY0Mq7n67-rh",
        "outputId": "1116e027-de0a-44e1-8ca2-e0feca84f03b"
      },
      "execution_count": null,
      "outputs": [
        {
          "output_type": "stream",
          "name": "stdout",
          "text": [
            "Squared: [ 1  4  9 16 25]\n"
          ]
        }
      ]
    },
    {
      "cell_type": "code",
      "source": [
        "# Matrices\n",
        "matrix = np.array([[1, 2], [3, 4]])\n",
        "print(\"Matrix:\\n\", matrix)\n",
        "print(\"Matrix Transpose:\\n\", matrix.T)"
      ],
      "metadata": {
        "colab": {
          "base_uri": "https://localhost:8080/"
        },
        "id": "o-Cp8p627-oo",
        "outputId": "599cceda-8871-4edb-d091-88ddae7170ed"
      },
      "execution_count": null,
      "outputs": [
        {
          "output_type": "stream",
          "name": "stdout",
          "text": [
            "Matrix:\n",
            " [[1 2]\n",
            " [3 4]]\n",
            "Matrix Transpose:\n",
            " [[1 3]\n",
            " [2 4]]\n"
          ]
        }
      ]
    },
    {
      "cell_type": "code",
      "source": [],
      "metadata": {
        "id": "iMCCGDtB9aN6"
      },
      "execution_count": null,
      "outputs": []
    },
    {
      "cell_type": "markdown",
      "source": [
        "## Pandas"
      ],
      "metadata": {
        "id": "iEC3qG4-9cp3"
      }
    },
    {
      "cell_type": "code",
      "source": [],
      "metadata": {
        "id": "jOQsj9Zr9dVl"
      },
      "execution_count": null,
      "outputs": []
    },
    {
      "cell_type": "code",
      "source": [
        "import pandas as pd\n",
        "\n",
        "# Create a DataFrame\n",
        "data = {\"Name\": [\"Alice\", \"Bob\", \"Charlie\"],\n",
        "        \"Score\": [92, 85, 88]}\n",
        "df = pd.DataFrame(data)"
      ],
      "metadata": {
        "id": "fkh8KdLp9dvV"
      },
      "execution_count": null,
      "outputs": []
    },
    {
      "cell_type": "code",
      "source": [
        "print(df)"
      ],
      "metadata": {
        "colab": {
          "base_uri": "https://localhost:8080/"
        },
        "id": "RHgIkKgF9iem",
        "outputId": "3df281e1-2b9f-4803-e7ff-3eb0396714c9"
      },
      "execution_count": null,
      "outputs": [
        {
          "output_type": "stream",
          "name": "stdout",
          "text": [
            "      Name  Score\n",
            "0    Alice     92\n",
            "1      Bob     85\n",
            "2  Charlie     88\n"
          ]
        }
      ]
    },
    {
      "cell_type": "code",
      "source": [
        "# Access a column\n",
        "print(\"Scores column:\", df[\"Score\"])"
      ],
      "metadata": {
        "colab": {
          "base_uri": "https://localhost:8080/"
        },
        "id": "may6LcjC9o6l",
        "outputId": "fe9c4b78-5856-4415-9805-776b9bdeee68"
      },
      "execution_count": null,
      "outputs": [
        {
          "output_type": "stream",
          "name": "stdout",
          "text": [
            "Scores column: 0    92\n",
            "1    85\n",
            "2    88\n",
            "Name: Score, dtype: int64\n"
          ]
        }
      ]
    },
    {
      "cell_type": "markdown",
      "source": [
        "## Matplotlib"
      ],
      "metadata": {
        "id": "WhgOmCpm9yMV"
      }
    },
    {
      "cell_type": "code",
      "source": [],
      "metadata": {
        "id": "oJebwNI-9zqA"
      },
      "execution_count": null,
      "outputs": []
    },
    {
      "cell_type": "code",
      "source": [
        "import matplotlib.pyplot as plt\n",
        "\n",
        "scores = [90, 85, 88, 92]\n",
        "names = [\"Alice\", \"Bob\", \"Charlie\", \"David\"]\n",
        "\n",
        "plt.bar(names, scores)\n",
        "plt.title(\"Scores of Students\")\n",
        "plt.xlabel(\"Names\")\n",
        "plt.ylabel(\"Scores\")\n",
        "plt.show()"
      ],
      "metadata": {
        "colab": {
          "base_uri": "https://localhost:8080/",
          "height": 472
        },
        "id": "ClVtGFt-90Bf",
        "outputId": "b7c6f619-c367-4df4-c90f-64d55debc0a7"
      },
      "execution_count": null,
      "outputs": [
        {
          "output_type": "display_data",
          "data": {
            "text/plain": [
              "<Figure size 640x480 with 1 Axes>"
            ],
            "image/png": "[encoded data removed]"
          },
          "metadata": {}
        }
      ]
    },
    {
      "cell_type": "markdown",
      "source": [
        "# ✅ Summary\n",
        "We covered the building blocks for ML in Python:\n",
        "- Variables & Data Types (numbers, strings, booleans)  \n",
        "- Lists & Dictionaries  \n",
        "- Control Flow (if, for, while)  \n",
        "- Functions  \n",
        "- NumPy (arrays & math)  \n",
        "- Pandas (data handling)  \n",
        "- Matplotlib (visualization)\n",
        "\n",
        "These concepts prepare us for the **next session: Introduction to Machine Learning**, where we’ll train our first model.\n"
      ],
      "metadata": {
        "id": "IyYjcNX595G7"
      }
    }
  ]
}